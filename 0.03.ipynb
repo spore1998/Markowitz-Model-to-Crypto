{
 "cells": [
  {
   "cell_type": "code",
   "execution_count": 22,
   "metadata": {},
   "outputs": [],
   "source": [
    "import numpy as np\n",
    "import pandas as pd\n",
    "import quandl\n",
    "import matplotlib.pyplot as plt\n",
    "from scipy.optimize import minimize\n",
    "import shrimpy\n",
    "%matplotlib inline "
   ]
  },
  {
   "cell_type": "code",
   "execution_count": 2,
   "metadata": {},
   "outputs": [],
   "source": []
  },
  {
   "cell_type": "code",
   "execution_count": null,
   "metadata": {},
   "outputs": [],
   "source": []
  },
  {
   "cell_type": "code",
   "execution_count": 73,
   "metadata": {},
   "outputs": [
    {
     "data": {
      "text/plain": [
       "date\n",
       "2016-10-04    12.416077\n",
       "2016-10-05     9.195945\n",
       "2016-10-06     6.273032\n",
       "2016-10-07     6.186431\n",
       "2016-10-08     5.267986\n",
       "                ...    \n",
       "2020-02-05    15.669385\n",
       "2020-02-06    15.646541\n",
       "2020-02-07    15.795386\n",
       "2020-02-08    16.318706\n",
       "2020-02-09    16.378582\n",
       "Name: PriceUSD, Length: 1224, dtype: float64"
      ]
     },
     "execution_count": 73,
     "metadata": {},
     "output_type": "execute_result"
    }
   ],
   "source": [
    "#tickers\n",
    "\n",
    "eth = pd.read_csv('eth.csv',parse_dates=True, index_col=\"date\")\n",
    "eth = eth['PriceUSD']\n",
    "\n",
    "btc = pd.read_csv('btc.csv',parse_dates=True, index_col=\"date\")\n",
    "btc = btc['PriceUSD']\n",
    "\n",
    "rep = pd.read_csv('rep.csv',parse_dates=True, index_col=\"date\")\n",
    "rep = rep['PriceUSD']\n",
    " "
   ]
  },
  {
   "cell_type": "code",
   "execution_count": null,
   "metadata": {},
   "outputs": [],
   "source": []
  },
  {
   "cell_type": "code",
   "execution_count": 74,
   "metadata": {},
   "outputs": [],
   "source": [
    "#juntar todas as colunas close na mesma dataframe, embora sejam perdidos muitos dados\n",
    "portfolio = pd.concat([btc,eth],axis=1)\n",
    "portfolio.columns = ['btc','eth']"
   ]
  },
  {
   "cell_type": "code",
   "execution_count": 75,
   "metadata": {},
   "outputs": [],
   "source": [
    "#retorno log\n",
    "log_ret=np.log(portfolio/portfolio.shift(1))"
   ]
  },
  {
   "cell_type": "code",
   "execution_count": 76,
   "metadata": {},
   "outputs": [],
   "source": [
    "#simulação de montecarlo embora esta parte seja mais para apresentar um grafico final\n",
    "\n",
    "num_ports = 5000\n",
    "\n",
    "all_weights = np.zeros((num_ports,len(portfolio.columns)))\n",
    "ret_arr = np.zeros(num_ports)\n",
    "vol_arr = np.zeros(num_ports)\n",
    "sharpe_arr = np.zeros(num_ports)\n",
    "\n",
    "for ind in range(num_ports):\n",
    "\n",
    "    # Create Random Weights\n",
    "    weights = np.array(np.random.random(2))\n",
    "\n",
    "    # Rebalance Weights\n",
    "    weights = weights / np.sum(weights)\n",
    "    \n",
    "    # Save Weights\n",
    "    all_weights[ind,:] = weights\n",
    "\n",
    "    # Expected Return\n",
    "    ret_arr[ind] = np.sum((log_ret.mean() * weights) *365)\n",
    "\n",
    "    # Expected Variance\n",
    "    vol_arr[ind] = np.sqrt(np.dot(weights.T, np.dot(log_ret.cov() * 365, weights)))\n",
    "\n",
    "    # Sharpe Ratio\n",
    "    sharpe_arr[ind] = ret_arr[ind]/vol_arr[ind]"
   ]
  },
  {
   "cell_type": "code",
   "execution_count": 77,
   "metadata": {},
   "outputs": [],
   "source": [
    "def get_ret_vol_sr(weights):\n",
    "    weights = np.array(weights)\n",
    "    ret = np.sum(log_ret.mean() * weights) * 365\n",
    "    vol = np.sqrt(np.dot(weights.T, np.dot(log_ret.cov() * 365, weights)))\n",
    "    sr = ret/vol\n",
    "    return np.array([ret,vol,sr])"
   ]
  },
  {
   "cell_type": "code",
   "execution_count": 78,
   "metadata": {},
   "outputs": [],
   "source": [
    "def neg_sharpe(weights):\n",
    "    return get_ret_vol_sr(weights)[2] * -1 "
   ]
  },
  {
   "cell_type": "code",
   "execution_count": 79,
   "metadata": {},
   "outputs": [],
   "source": [
    "def check_sum(weights):\n",
    "    #return 0 if the sum of the weights is 1\n",
    "    return np.sum(weights) -1 "
   ]
  },
  {
   "cell_type": "code",
   "execution_count": 80,
   "metadata": {},
   "outputs": [],
   "source": [
    "cons = ({'type':'eq','fun': check_sum})\n",
    "bounds = ((0, 1), (0, 1))\n",
    "init_guess = [0.25,0.25]"
   ]
  },
  {
   "cell_type": "code",
   "execution_count": 81,
   "metadata": {},
   "outputs": [],
   "source": [
    "opt_results = minimize(neg_sharpe,init_guess,method='SLSQP',bounds=bounds,constraints=cons)"
   ]
  },
  {
   "cell_type": "code",
   "execution_count": 82,
   "metadata": {
    "scrolled": false
   },
   "outputs": [
    {
     "data": {
      "text/plain": [
       "     fun: -1.287877903927417\n",
       "     jac: array([ 2.16066837e-06, -4.36604023e-06])\n",
       " message: 'Optimization terminated successfully.'\n",
       "    nfev: 24\n",
       "     nit: 6\n",
       "    njev: 6\n",
       "  status: 0\n",
       " success: True\n",
       "       x: array([0.66742095, 0.33257905])"
      ]
     },
     "execution_count": 82,
     "metadata": {},
     "output_type": "execute_result"
    }
   ],
   "source": [
    "opt_results"
   ]
  },
  {
   "cell_type": "code",
   "execution_count": 83,
   "metadata": {},
   "outputs": [
    {
     "data": {
      "text/plain": [
       "array([0.66742095, 0.33257905])"
      ]
     },
     "execution_count": 83,
     "metadata": {},
     "output_type": "execute_result"
    }
   ],
   "source": [
    "#aqui está a array com os pesos da carteira que devemos ter para maximizar o valor do sharpe ratio\n",
    "opt_results.x"
   ]
  },
  {
   "cell_type": "code",
   "execution_count": 84,
   "metadata": {},
   "outputs": [
    {
     "data": {
      "text/plain": [
       "array([1.18438915, 0.91964397, 1.2878779 ])"
      ]
     },
     "execution_count": 84,
     "metadata": {},
     "output_type": "execute_result"
    }
   ],
   "source": [
    "#a partir desta parte, é codigo para trabalhar a parte ilustrativa de forma a melhor visulizar os resultados \n",
    "get_ret_vol_sr(opt_results.x)"
   ]
  },
  {
   "cell_type": "code",
   "execution_count": 85,
   "metadata": {},
   "outputs": [],
   "source": [
    "x = get_ret_vol_sr(opt_results.x)[0]\n",
    "y = get_ret_vol_sr(opt_results.x)[1]"
   ]
  },
  {
   "cell_type": "code",
   "execution_count": 86,
   "metadata": {},
   "outputs": [],
   "source": [
    "frontier_y= np.linspace(0,0.3,100)"
   ]
  },
  {
   "cell_type": "code",
   "execution_count": 87,
   "metadata": {},
   "outputs": [],
   "source": [
    "def minimize_vol(weights):\n",
    "    return get_ret_vol_sr(weights)[1]"
   ]
  },
  {
   "cell_type": "code",
   "execution_count": 88,
   "metadata": {},
   "outputs": [],
   "source": [
    "frontier_volatility = []\n",
    "for possible_return in frontier_y:\n",
    "    cons = ({'type':'eq','fun':check_sum},\n",
    "            {'type':'eq','fun':lambda w: get_ret_vol_sr(w)[0]-possible_return})\n",
    "    result = minimize(minimize_vol,init_guess,method='SLSQP',bounds=bounds,constraints=cons)\n",
    "    \n",
    "    frontier_volatility.append(result['fun'])"
   ]
  },
  {
   "cell_type": "code",
   "execution_count": 89,
   "metadata": {},
   "outputs": [
    {
     "name": "stdout",
     "output_type": "stream",
     "text": [
      "Compra 66.74209513263128 % de BTC\n",
      "Compra 33.25790486736872 % de ETH\n"
     ]
    },
    {
     "data": {
      "image/png": "[encoded data removed]",
      "text/plain": [
       "<Figure size 864x576 with 2 Axes>"
      ]
     },
     "metadata": {
      "needs_background": "light"
     },
     "output_type": "display_data"
    }
   ],
   "source": [
    "plt.figure(figsize=(12,8))\n",
    "plt.scatter(vol_arr,ret_arr,c=sharpe_arr,cmap='plasma')\n",
    "plt.colorbar(label='Sharpe Ratio')\n",
    "plt.xlabel('Volatility')\n",
    "plt.ylabel('Return')\n",
    "\n",
    "plt.plot(frontier_volatility,frontier_y,'g--',linewidth=3,alpha=0.7)\n",
    "\n",
    "plt.scatter(y,x,c='red',s=50,edgecolors='black')\n",
    "\n",
    "print('Compra', opt_results.x[0] * 100,'% de BTC')\n",
    "print('Compra', opt_results.x[1] * 100,'% de ETH')\n",
    "\n",
    "\n",
    "\n"
   ]
  },
  {
   "cell_type": "code",
   "execution_count": 21,
   "metadata": {},
   "outputs": [],
   "source": [
    "#PROBLEMA: os dados apresentam rentabilidades negativas. Desta forma não é possivel de aplicar o modelo de markowitz\n",
    "#Solução : ir buscar dados com mais histórico : coinmarketcap https://pypi.org/project/coinmarketcap/\n"
   ]
  },
  {
   "cell_type": "code",
   "execution_count": null,
   "metadata": {},
   "outputs": [],
   "source": []
  }
 ],
 "metadata": {
  "kernelspec": {
   "display_name": "Python 3",
   "language": "python",
   "name": "python3"
  },
  "language_info": {
   "codemirror_mode": {
    "name": "ipython",
    "version": 3
   },
   "file_extension": ".py",
   "mimetype": "text/x-python",
   "name": "python",
   "nbconvert_exporter": "python",
   "pygments_lexer": "ipython3",
   "version": "3.7.4"
  }
 },
 "nbformat": 4,
 "nbformat_minor": 2
}
