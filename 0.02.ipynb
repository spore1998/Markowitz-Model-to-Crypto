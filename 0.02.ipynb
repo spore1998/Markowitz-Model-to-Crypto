{
 "cells": [
  {
   "cell_type": "code",
   "execution_count": 2,
   "metadata": {},
   "outputs": [],
   "source": [
    "import numpy as np\n",
    "import pandas as pd\n",
    "import quandl\n",
    "import matplotlib.pyplot as plt\n",
    "from scipy.optimize import minimize\n",
    "import shrimpy\n",
    "%matplotlib inline "
   ]
  },
  {
   "cell_type": "code",
   "execution_count": 3,
   "metadata": {},
   "outputs": [],
   "source": [
    "#keys da api\n",
    "public_key = '0bd785ea948a9225b371e6db7f29cf6c4c3597d91ec663bc6b23026bd10ab8f3'\n",
    "secret_key = '9810f64bf6498a9996d97ea8f8426b0a24b6d2e62163ae780b7e066d2dbe23f1b3be58e5c81580872544d8428b455cd2ed7464b2a27dbfcff75f194afd3cb6f7'\n",
    "client = shrimpy.ShrimpyApiClient(public_key, secret_key)"
   ]
  },
  {
   "cell_type": "code",
   "execution_count": null,
   "metadata": {},
   "outputs": [],
   "source": []
  },
  {
   "cell_type": "code",
   "execution_count": 4,
   "metadata": {},
   "outputs": [],
   "source": [
    "#ir buscar os tickers btc , eth , etc e xrp\n",
    "\n",
    "btc = client.get_candles(\n",
    "    'binance',   # exchange\n",
    "    'BTC',      # base_trading_symbol\n",
    "    'USDT',     # quote_trading_symbol\n",
    "    '1d'        # interval\n",
    ")\n",
    "dates = []\n",
    "open_data = []\n",
    "high_data = []\n",
    "low_data = []\n",
    "close_data = []\n",
    "\n",
    "for candle in btc:\n",
    "    dates.append(candle['time'])\n",
    "    open_data.append(candle['open'])\n",
    "    close_data.append(candle['close'])\n",
    "    \n",
    "df_btc = pd.DataFrame(btc) \n",
    "df_btc['Date'] = df_btc['time'].apply(pd.to_datetime)\n",
    "df_btc.set_index('Date',inplace=True)\n",
    "\n",
    "\n",
    "\n",
    "\n",
    "\n",
    "eth = client.get_candles(\n",
    "    'binance',   # exchange\n",
    "    'ETH',      # base_trading_symbol\n",
    "    'USDT',     # quote_trading_symbol\n",
    "    '1d'        # interval\n",
    ")\n",
    "\n",
    "dates = []\n",
    "open_data = []\n",
    "high_data = []\n",
    "low_data = []\n",
    "close_data = []\n",
    "\n",
    "for candle in eth:\n",
    "    dates.append(candle['time'])\n",
    "    open_data.append(candle['open'])\n",
    "    close_data.append(candle['close'])\n",
    "    \n",
    "df_eth = pd.DataFrame(eth) \n",
    "df_eth['Date'] = df_eth['time'].apply(pd.to_datetime)\n",
    "df_eth.set_index('Date',inplace=True)\n",
    "\n",
    "\n",
    "\n",
    "\n",
    "xrp = client.get_candles(\n",
    "    'binance',   # exchange\n",
    "    'XRP',      # base_trading_symbol\n",
    "    'USDT',     # quote_trading_symbol\n",
    "    '1d'        # interval\n",
    ")\n",
    "dates = []\n",
    "open_data = []\n",
    "high_data = []\n",
    "low_data = []\n",
    "close_data = []\n",
    "\n",
    "for candle in xrp:\n",
    "    dates.append(candle['time'])\n",
    "    open_data.append(candle['open'])\n",
    "    close_data.append(candle['close'])\n",
    "    \n",
    "df_xrp = pd.DataFrame(xrp) \n",
    "df_xrp['Date'] = df_xrp['time'].apply(pd.to_datetime)\n",
    "df_xrp.set_index('Date',inplace=True)\n",
    "\n",
    "\n",
    "etc = client.get_candles(\n",
    "    'binance',   # exchange\n",
    "    'ETC',      # base_trading_symbol\n",
    "    'USDT',     # quote_trading_symbol\n",
    "    '1d'        # interval\n",
    ")\n",
    "\n",
    "dates = []\n",
    "open_data = []\n",
    "high_data = []\n",
    "low_data = []\n",
    "close_data = []\n",
    "\n",
    "for candle in etc:\n",
    "    dates.append(candle['time'])\n",
    "    open_data.append(candle['open'])\n",
    "    close_data.append(candle['close'])\n",
    "    \n",
    "df_etc = pd.DataFrame(etc) \n",
    "df_etc['Date'] = df_etc['time'].apply(pd.to_datetime)\n",
    "df_etc.set_index('Date',inplace=True)"
   ]
  },
  {
   "cell_type": "code",
   "execution_count": 5,
   "metadata": {},
   "outputs": [],
   "source": [
    "#ir só buscar as colunas close\n",
    "btc = df_btc['close']\n",
    "etc = df_etc['close']\n",
    "eth = df_eth['close']\n",
    "xrp = df_xrp['close']"
   ]
  },
  {
   "cell_type": "code",
   "execution_count": 6,
   "metadata": {},
   "outputs": [],
   "source": [
    "#juntar todas as colunas close na mesma dataframe, embora sejam perdidos muitos dados\n",
    "portfolio = pd.concat([btc,etc,eth,xrp],axis=1).dropna()\n",
    "portfolio.columns = ['btc','etc','eth','xrp']"
   ]
  },
  {
   "cell_type": "code",
   "execution_count": 7,
   "metadata": {},
   "outputs": [
    {
     "ename": "TypeError",
     "evalue": "int() argument must be a string, a bytes-like object or a number, not 'DataFrame'",
     "output_type": "error",
     "traceback": [
      "\u001b[1;31m---------------------------------------------------------------------------\u001b[0m",
      "\u001b[1;31mTypeError\u001b[0m                                 Traceback (most recent call last)",
      "\u001b[1;32m<ipython-input-7-5872cb3f4dd4>\u001b[0m in \u001b[0;36m<module>\u001b[1;34m\u001b[0m\n\u001b[0;32m      1\u001b[0m \u001b[1;31m#retorno log\u001b[0m\u001b[1;33m\u001b[0m\u001b[1;33m\u001b[0m\u001b[1;33m\u001b[0m\u001b[0m\n\u001b[1;32m----> 2\u001b[1;33m \u001b[0mlog_ret\u001b[0m\u001b[1;33m=\u001b[0m\u001b[0mnp\u001b[0m\u001b[1;33m.\u001b[0m\u001b[0mlog\u001b[0m\u001b[1;33m(\u001b[0m\u001b[0mint\u001b[0m\u001b[1;33m(\u001b[0m\u001b[0mportfolio\u001b[0m\u001b[1;33m)\u001b[0m\u001b[1;33m/\u001b[0m\u001b[0mint\u001b[0m\u001b[1;33m(\u001b[0m\u001b[0mportfolio\u001b[0m\u001b[1;33m)\u001b[0m\u001b[1;33m.\u001b[0m\u001b[0mshift\u001b[0m\u001b[1;33m(\u001b[0m\u001b[1;36m1\u001b[0m\u001b[1;33m)\u001b[0m\u001b[1;33m)\u001b[0m\u001b[1;33m\u001b[0m\u001b[1;33m\u001b[0m\u001b[0m\n\u001b[0m",
      "\u001b[1;31mTypeError\u001b[0m: int() argument must be a string, a bytes-like object or a number, not 'DataFrame'"
     ]
    }
   ],
   "source": [
    "#retorno log\n",
    "log_ret=np.log(int(portfolio)/int(portfolio).shift(1))"
   ]
  },
  {
   "cell_type": "code",
   "execution_count": null,
   "metadata": {},
   "outputs": [],
   "source": [
    "#simulação de montecarlo embora esta parte seja mais para apresentar um grafico final\n",
    "\n",
    "num_ports = 5000\n",
    "\n",
    "all_weights = np.zeros((num_ports,len(stocks.columns)))\n",
    "ret_arr = np.zeros(num_ports)\n",
    "vol_arr = np.zeros(num_ports)\n",
    "sharpe_arr = np.zeros(num_ports)\n",
    "\n",
    "for ind in range(num_ports):\n",
    "\n",
    "    # Create Random Weights\n",
    "    weights = np.array(np.random.random(4))\n",
    "\n",
    "    # Rebalance Weights\n",
    "    weights = weights / np.sum(weights)\n",
    "    \n",
    "    # Save Weights\n",
    "    all_weights[ind,:] = weights\n",
    "\n",
    "    # Expected Return\n",
    "    ret_arr[ind] = np.sum((log_ret.mean() * weights) *252)\n",
    "\n",
    "    # Expected Variance\n",
    "    vol_arr[ind] = np.sqrt(np.dot(weights.T, np.dot(log_ret.cov() * 252, weights)))\n",
    "\n",
    "    # Sharpe Ratio\n",
    "    sharpe_arr[ind] = ret_arr[ind]/vol_arr[ind]"
   ]
  },
  {
   "cell_type": "code",
   "execution_count": null,
   "metadata": {},
   "outputs": [],
   "source": [
    "def get_ret_vol_sr(weights):\n",
    "    weights = np.array(weights)\n",
    "    ret = np.sum(log_ret.mean() * weights) * 252\n",
    "    vol = np.sqrt(np.dot(weights.T, np.dot(log_ret.cov() * 252, weights)))\n",
    "    sr = ret/vol\n",
    "    return np.array([ret,vol,sr])"
   ]
  },
  {
   "cell_type": "code",
   "execution_count": null,
   "metadata": {},
   "outputs": [],
   "source": [
    "def neg_sharpe(weights):\n",
    "    return get_ret_vol_sr(weights)[2] * -1 "
   ]
  },
  {
   "cell_type": "code",
   "execution_count": null,
   "metadata": {},
   "outputs": [],
   "source": [
    "def check_sum(weights):\n",
    "    #return 0 if the sum of the weights is 1\n",
    "    return np.sum(weights) -1 "
   ]
  },
  {
   "cell_type": "code",
   "execution_count": null,
   "metadata": {},
   "outputs": [],
   "source": [
    "cons = ({'type':'eq','fun': check_sum})\n",
    "bounds = ((0, 1), (0, 1), (0, 1), (0, 1))\n",
    "init_guess = [0.25,0.25,0.25,0.25]"
   ]
  },
  {
   "cell_type": "code",
   "execution_count": null,
   "metadata": {},
   "outputs": [],
   "source": [
    "opt_results = minimize(neg_sharpe,init_guess,method='SLSQP',bounds=bounds,constraints=cons)"
   ]
  },
  {
   "cell_type": "code",
   "execution_count": null,
   "metadata": {
    "scrolled": false
   },
   "outputs": [],
   "source": [
    "opt_results"
   ]
  },
  {
   "cell_type": "code",
   "execution_count": null,
   "metadata": {},
   "outputs": [],
   "source": [
    "#aqui está a array com os pesos da carteira que devemos ter para maximizar o valor do sharpe ratio\n",
    "opt_results.x"
   ]
  },
  {
   "cell_type": "code",
   "execution_count": null,
   "metadata": {},
   "outputs": [],
   "source": [
    "#a partir desta parte, é codigo para trabalhar a parte ilustrativa de forma a melhor visulizar os resultados \n",
    "get_ret_vol_sr(opt_results.x)"
   ]
  },
  {
   "cell_type": "code",
   "execution_count": null,
   "metadata": {},
   "outputs": [],
   "source": [
    "x = get_ret_vol_sr(opt_results.x)[0]\n",
    "y = get_ret_vol_sr(opt_results.x)[1]"
   ]
  },
  {
   "cell_type": "code",
   "execution_count": null,
   "metadata": {},
   "outputs": [],
   "source": [
    "frontier_y= np.linspace(0,0.3,100)"
   ]
  },
  {
   "cell_type": "code",
   "execution_count": null,
   "metadata": {},
   "outputs": [],
   "source": [
    "def minimize_vol(weights):\n",
    "    return get_ret_vol_sr(weights)[1]"
   ]
  },
  {
   "cell_type": "code",
   "execution_count": null,
   "metadata": {},
   "outputs": [],
   "source": [
    "frontier_volatility = []\n",
    "for possible_return in frontier_y:\n",
    "    cons = ({'type':'eq','fun':check_sum},\n",
    "            {'type':'eq','fun':lambda w: get_ret_vol_sr(w)[0]-possible_return})\n",
    "    result = minimize(minimize_vol,init_guess,method='SLSQP',bounds=bounds,constraints=cons)\n",
    "    \n",
    "    frontier_volatility.append(result['fun'])"
   ]
  },
  {
   "cell_type": "code",
   "execution_count": null,
   "metadata": {},
   "outputs": [],
   "source": [
    "plt.figure(figsize=(12,8))\n",
    "plt.scatter(vol_arr,ret_arr,c=sharpe_arr,cmap='plasma')\n",
    "plt.colorbar(label='Sharpe Ratio')\n",
    "plt.xlabel('Volatility')\n",
    "plt.ylabel('Return')\n",
    "\n",
    "plt.plot(frontier_volatility,frontier_y,'g--',linewidth=3,alpha=0.7)\n",
    "\n",
    "plt.scatter(y,x,c='red',s=50,edgecolors='black')\n",
    "\n",
    "print('Compra', opt_results.x[0] * 100,'% de Apple')\n",
    "print('Compra', opt_results.x[1] * 100,'% de Cisco')\n",
    "print('Compra', opt_results.x[2] * 100,'% de IBM')\n",
    "print('Compra', opt_results.x[3] * 100,'% de Amazon')\n",
    "\n",
    "\n"
   ]
  },
  {
   "cell_type": "code",
   "execution_count": null,
   "metadata": {},
   "outputs": [],
   "source": [
    "\n"
   ]
  },
  {
   "cell_type": "code",
   "execution_count": null,
   "metadata": {},
   "outputs": [],
   "source": []
  }
 ],
 "metadata": {
  "kernelspec": {
   "display_name": "Python 3",
   "language": "python",
   "name": "python3"
  },
  "language_info": {
   "codemirror_mode": {
    "name": "ipython",
    "version": 3
   },
   "file_extension": ".py",
   "mimetype": "text/x-python",
   "name": "python",
   "nbconvert_exporter": "python",
   "pygments_lexer": "ipython3",
   "version": "3.7.4"
  }
 },
 "nbformat": 4,
 "nbformat_minor": 2
}
